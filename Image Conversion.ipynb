{
 "cells": [
  {
   "cell_type": "markdown",
   "metadata": {},
   "source": [
    "# Video Conversion from RGB to YUV"
   ]
  },
  {
   "cell_type": "markdown",
   "metadata": {},
   "source": [
    "# Import Libraries"
   ]
  },
  {
   "cell_type": "code",
   "execution_count": 1,
   "metadata": {},
   "outputs": [],
   "source": [
    "import cv2\n",
    "import numpy as np"
   ]
  },
  {
   "cell_type": "markdown",
   "metadata": {},
   "source": [
    "# Function to Convert a video into frames\n",
    "Since any video is a series of images, we need to parallelise the process of converting these individual images from RGB to YUV. \n",
    "The variable buf has all the numpy arrays of the individual frames of the video"
   ]
  },
  {
   "cell_type": "code",
   "execution_count": 2,
   "metadata": {},
   "outputs": [],
   "source": [
    "def convert_to_frames(video):\n",
    "    cap = cv2.VideoCapture(video)\n",
    "    fps = cap.get(cv2.CAP_PROP_FPS)\n",
    "    print(\"Video frame rate:\",fps)\n",
    "    frameCount = int(cap.get(cv2.CAP_PROP_FRAME_COUNT))\n",
    "    frameWidth = int(cap.get(cv2.CAP_PROP_FRAME_WIDTH))\n",
    "    frameHeight = int(cap.get(cv2.CAP_PROP_FRAME_HEIGHT))\n",
    "\n",
    "    buf = np.empty((frameCount, frameHeight, frameWidth, 3), np.dtype('uint8'))\n",
    "\n",
    "    fc = 0\n",
    "    ret = True\n",
    "\n",
    "    while (fc < frameCount  and ret):\n",
    "        ret, buf[fc] = cap.read()\n",
    "        fc += 1\n",
    "\n",
    "    cap.release()\n",
    "    return buf"
   ]
  },
  {
   "cell_type": "markdown",
   "metadata": {},
   "source": [
    "Buffered Frames holds the same frames of the videos just like the variable buf."
   ]
  },
  {
   "cell_type": "markdown",
   "metadata": {},
   "source": [
    "GIF format files are similar to using Video files with lower frame rates. But if u want to execute video files you can do so as well. Replace it with eg.gif with the video files name"
   ]
  },
  {
   "cell_type": "code",
   "execution_count": 3,
   "metadata": {},
   "outputs": [
    {
     "name": "stdout",
     "output_type": "stream",
     "text": [
      "Video frame rate: 20.0\n"
     ]
    }
   ],
   "source": [
    "buffered_frames = convert_to_frames(\"eg.gif\")"
   ]
  },
  {
   "cell_type": "markdown",
   "metadata": {},
   "source": [
    "Lets check what do the individual frames look like and how many frames are there in this video"
   ]
  },
  {
   "cell_type": "code",
   "execution_count": 28,
   "metadata": {},
   "outputs": [
    {
     "name": "stdout",
     "output_type": "stream",
     "text": [
      "Number of Frames in this video are:: 57\n"
     ]
    }
   ],
   "source": [
    "print(\"Number of Frames in this video are::\",len(buffered_frames))\n",
    "cv2.imshow('Frame 1', buffered_frames[0])\n",
    "cv2.imshow('Frame 10', buffered_frames[9])\n",
    "# cv2.imshow('Frame 100', buffered_frames[99])\n",
    "cv2.imshow('Last frame', buffered_frames[len(buffered_frames)-1])\n",
    "cv2.waitKey(0)\n",
    "cv2.destroyAllWindows()\n"
   ]
  },
  {
   "cell_type": "markdown",
   "metadata": {},
   "source": [
    "# Converting the individual images from RGB to YUV \n",
    "The make_lut_u and make_lut_v functions help in removing the frames Y, U, V filters, where Y is the black and white filter used in olden days television. \n",
    "These images are stacked up over each other.\n",
    "The results are stored in Converted folder."
   ]
  },
  {
   "cell_type": "markdown",
   "metadata": {},
   "source": [
    "#### The cell below uses the CPU in the most efficient manner to convert images from RGB to YUV using cv2 library but does not use the GPU"
   ]
  },
  {
   "cell_type": "code",
   "execution_count": null,
   "metadata": {},
   "outputs": [],
   "source": [
    "def rgb_to_yuv(frame,frame_no):\n",
    "    \n",
    "    img_yuv = cv2.cvtColor(frame, cv2.COLOR_BGR2YUV)\n",
    "\n",
    "    result = np.vstack([frame, img_yuv])\n",
    "    cv2.imwrite(\"Converted/frame \"+str(frame_no)+\".jpg\", result)"
   ]
  },
  {
   "cell_type": "markdown",
   "metadata": {},
   "source": [
    "#### The below cell does the same work as the above cell but using matrix multiplication on CUDA kernel"
   ]
  },
  {
   "cell_type": "code",
   "execution_count": 9,
   "metadata": {},
   "outputs": [],
   "source": [
    "from __future__ import division\n",
    "from numba import cuda\n",
    "import numpy\n",
    "import math\n",
    "\n",
    "# CUDA kernel\n",
    "@cuda.jit\n",
    "def matmul(A, B, C):\n",
    "    \"\"\"Perform matrix multiplication of C = A * B\n",
    "    \"\"\"\n",
    "    row, col = cuda.grid(2)\n",
    "    if row < C.shape[0] and col < C.shape[1]:\n",
    "        tmp = 0.\n",
    "        for k in range(A.shape[1]):\n",
    "            tmp += A[row, k] * B[k, col]\n",
    "        C[row, col] = tmp\n",
    "        \n",
    "\n",
    "def rgb2yuv_GPU(frame,frame_no):\n",
    "    # Host code\n",
    "\n",
    "    # Initialize the data arrays\n",
    "    # The data array\n",
    "    A = frame.astype(\"float32\")\n",
    "    A = A.reshape((frame.shape[0] * frame.shape[1], 3))\n",
    "    \n",
    "    # Image Filter for converting RGB to YUV\n",
    "    B =  np.array([[ 0.29900, -0.16874,  0.50000],\n",
    "                 [0.58700, -0.33126, -0.41869],\n",
    "                 [ 0.11400, 0.50000, -0.08131]])\n",
    "    B = B.astype(\"float32\")\n",
    "    dimensions_A = A.shape\n",
    "    # Copy the arrays to the device\n",
    "    A_global_mem = cuda.to_device(A)\n",
    "    B_global_mem = cuda.to_device(B)\n",
    "\n",
    "    # Allocate memory on the device for the result\n",
    "    C_global_mem = cuda.device_array(dimensions_A)\n",
    "\n",
    "    # Configure the blocks\n",
    "    threadsperblock = (16, 16)\n",
    "    blockspergrid_x = int(math.ceil(A.shape[0] / threadsperblock[0]))\n",
    "    blockspergrid_y = int(math.ceil(B.shape[1] / threadsperblock[1]))\n",
    "    blockspergrid = (blockspergrid_x, blockspergrid_y)\n",
    "\n",
    "    # Start the kernel \n",
    "    matmul[blockspergrid, threadsperblock](A_global_mem, B_global_mem, C_global_mem)\n",
    "\n",
    "    # Copy the result back to the host\n",
    "    expected = C_global_mem.copy_to_host()\n",
    "\n",
    "    img_yuv = expected.reshape(frame.shape)\n",
    "    img_yuv[:,:,1:]+=128.0\n",
    "    img_yuv = img_yuv.astype(\"uint8\")\n",
    "    \n",
    "    result = np.vstack([frame, img_yuv])\n",
    "    cv2.imwrite(\"Converted/frame \"+str(frame_no)+\".jpg\", result)"
   ]
  },
  {
   "cell_type": "markdown",
   "metadata": {},
   "source": [
    "#### The below cell does the same work as the above cell but using matrix multiplication function in numpy library on the CPU "
   ]
  },
  {
   "cell_type": "code",
   "execution_count": 6,
   "metadata": {},
   "outputs": [],
   "source": [
    "def rgb2yuv_CPU(frame,frame_no):\n",
    "    m =  np.array([[ 0.29900, -0.16874,  0.50000],\n",
    "             [0.58700, -0.33126, -0.41869],\n",
    "             [ 0.11400, 0.50000, -0.08131]])\n",
    "    yuv_filter = m.astype(\"float32\")\n",
    "    \n",
    "    a = frame.astype(\"float32\")\n",
    "    a = a.reshape((frame.shape[0] * frame.shape[1], 3))\n",
    "    \n",
    "    expected = np.matmul(a, yuv_filter)\n",
    "\n",
    "    img_yuv = expected.reshape(frame.shape)\n",
    "    img_yuv[:,:,1:]+=128.0\n",
    "    img_yuv = img_yuv.astype(\"uint8\")\n",
    "    \n",
    "    result = np.vstack([frame, img_yuv])\n",
    "    cv2.imwrite(\"Converted/frame \"+str(frame_no)+\".jpg\", result)"
   ]
  },
  {
   "cell_type": "markdown",
   "metadata": {},
   "source": [
    "# Serial Execution of RGB to YUV convertion\n",
    "The above function is executed serially. The next images conversion will only take place after the previous one has been converted.\n",
    "Warning: Please dont run this program if u do not have Ram greater than 8GB"
   ]
  },
  {
   "cell_type": "markdown",
   "metadata": {},
   "source": [
    "### CPU EXECUTION "
   ]
  },
  {
   "cell_type": "code",
   "execution_count": 22,
   "metadata": {},
   "outputs": [
    {
     "name": "stdout",
     "output_type": "stream",
     "text": [
      "Wall time: 688 ms\n"
     ]
    }
   ],
   "source": [
    "%%time\n",
    "for i in range(0,len(buffered_frames)):\n",
    "    rgb2yuv_CPU(buffered_frames[i],i+1)\n"
   ]
  },
  {
   "cell_type": "markdown",
   "metadata": {},
   "source": [
    "### GPU EXECUTION"
   ]
  },
  {
   "cell_type": "code",
   "execution_count": 23,
   "metadata": {},
   "outputs": [
    {
     "name": "stdout",
     "output_type": "stream",
     "text": [
      "Wall time: 930 ms\n"
     ]
    }
   ],
   "source": [
    "%%time\n",
    "for i in range(0,len(buffered_frames)):\n",
    "    rgb2yuv_GPU(buffered_frames[i],i+1)"
   ]
  },
  {
   "cell_type": "markdown",
   "metadata": {},
   "source": [
    "# Parallel Execution of RGB to YUV convertion\n",
    "The same function is now running on threads and produces the same results as serial but executes faster compared to serial execution.\n",
    "Why use threading?\n",
    "Because each frame is like an image from a video. Each frame needs to be given to separate processor using threads."
   ]
  },
  {
   "cell_type": "code",
   "execution_count": 29,
   "metadata": {},
   "outputs": [],
   "source": [
    "from threading import Thread"
   ]
  },
  {
   "cell_type": "markdown",
   "metadata": {},
   "source": [
    "### CPU EXECUTION with THREADING"
   ]
  },
  {
   "cell_type": "code",
   "execution_count": 21,
   "metadata": {},
   "outputs": [
    {
     "name": "stdout",
     "output_type": "stream",
     "text": [
      "Wall time: 198 ms\n"
     ]
    }
   ],
   "source": [
    "%%time\n",
    "for i in range(0,len(buffered_frames)):\n",
    "    Thread(target = rgb2yuv_CPU, args=[buffered_frames[i], i+1 ]).start()\n"
   ]
  },
  {
   "cell_type": "markdown",
   "metadata": {},
   "source": [
    "### GPU EXECUTION with THREADING "
   ]
  },
  {
   "cell_type": "code",
   "execution_count": 30,
   "metadata": {},
   "outputs": [
    {
     "name": "stdout",
     "output_type": "stream",
     "text": [
      "Wall time: 38 ms\n"
     ]
    }
   ],
   "source": [
    "%%time\n",
    "for i in range(0,len(buffered_frames)):\n",
    "    Thread(target = rgb2yuv_GPU, args=[buffered_frames[i], i+1 ]).start()"
   ]
  },
  {
   "cell_type": "markdown",
   "metadata": {},
   "source": [
    "# Results: the execution is faster on GPU"
   ]
  },
  {
   "cell_type": "code",
   "execution_count": null,
   "metadata": {},
   "outputs": [],
   "source": []
  }
 ],
 "metadata": {
  "kernelspec": {
   "display_name": "Python 3",
   "language": "python",
   "name": "python3"
  },
  "language_info": {
   "codemirror_mode": {
    "name": "ipython",
    "version": 3
   },
   "file_extension": ".py",
   "mimetype": "text/x-python",
   "name": "python",
   "nbconvert_exporter": "python",
   "pygments_lexer": "ipython3",
   "version": "3.7.6"
  }
 },
 "nbformat": 4,
 "nbformat_minor": 4
}
